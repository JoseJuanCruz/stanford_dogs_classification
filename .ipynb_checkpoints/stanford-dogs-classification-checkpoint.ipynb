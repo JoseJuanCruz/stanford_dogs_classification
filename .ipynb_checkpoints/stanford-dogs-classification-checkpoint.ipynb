{
 "cells": [
  {
   "cell_type": "code",
   "execution_count": 1,
   "id": "fantastic-gothic",
   "metadata": {
    "execution": {
     "iopub.execute_input": "2021-07-18T23:51:23.802260Z",
     "iopub.status.busy": "2021-07-18T23:51:23.801830Z",
     "iopub.status.idle": "2021-07-18T23:51:29.316426Z",
     "shell.execute_reply": "2021-07-18T23:51:29.315386Z",
     "shell.execute_reply.started": "2021-07-18T23:51:23.802217Z"
    },
    "papermill": {
     "duration": null,
     "end_time": null,
     "exception": null,
     "start_time": null,
     "status": "pending"
    },
    "tags": []
   },
   "outputs": [
    {
     "name": "stdout",
     "output_type": "stream",
     "text": [
      "Model: \"sequential\"\n",
      "_________________________________________________________________\n",
      "Layer (type)                 Output Shape              Param #   \n",
      "=================================================================\n",
      "conv2d (Conv2D)              (None, 26, 26, 32)        320       \n",
      "_________________________________________________________________\n",
      "max_pooling2d (MaxPooling2D) (None, 13, 13, 32)        0         \n",
      "_________________________________________________________________\n",
      "dropout (Dropout)            (None, 13, 13, 32)        0         \n",
      "_________________________________________________________________\n",
      "flatten (Flatten)            (None, 5408)              0         \n",
      "_________________________________________________________________\n",
      "dense (Dense)                (None, 128)               692352    \n",
      "_________________________________________________________________\n",
      "dropout_1 (Dropout)          (None, 128)               0         \n",
      "_________________________________________________________________\n",
      "dense_1 (Dense)              (None, 10)                1290      \n",
      "=================================================================\n",
      "Total params: 693,962\n",
      "Trainable params: 693,962\n",
      "Non-trainable params: 0\n",
      "_________________________________________________________________\n"
     ]
    }
   ],
   "source": [
    "from keras import models\n",
    "from keras.layers import Dense, Dropout, Flatten, Conv2D, MaxPooling2D\n",
    "model = models.Sequential()\n",
    "model.add(Conv2D(32, (3, 3), activation = 'relu', input_shape=(28,28,1)))\n",
    "model.add(MaxPooling2D(pool_size=(2, 2)))\n",
    "model.add(Dropout(0.25))\n",
    "model.add(Flatten())\n",
    "model.add(Dense(128, activation='relu'))\n",
    "model.add(Dropout(0.5))\n",
    "model.add(Dense(10,activation='softmax'))\n",
    "model.compile(optimizer='rmsprop', loss='categorical_crossentropy',metrics=['accuracy'])\n",
    "model.summary()\n"
   ]
  },
  {
   "cell_type": "code",
   "execution_count": 2,
   "id": "5fd7c38f",
   "metadata": {},
   "outputs": [],
   "source": [
    "from IPython.display import SVG\n",
    "from keras.utils.vis_utils import model_to_dot"
   ]
  },
  {
   "cell_type": "code",
   "execution_count": 3,
   "id": "lesbian-mission",
   "metadata": {
    "_cell_guid": "b1076dfc-b9ad-4769-8c92-a6c4dae69d19",
    "_kg_hide-output": true,
    "_uuid": "8f2839f25d086af736a60e9eeb907d3b93b6e0e5",
    "execution": {
     "iopub.execute_input": "2021-07-18T23:51:12.322867Z",
     "iopub.status.busy": "2021-07-18T23:51:12.322444Z",
     "iopub.status.idle": "2021-07-18T23:51:23.800001Z",
     "shell.execute_reply": "2021-07-18T23:51:23.799085Z",
     "shell.execute_reply.started": "2021-07-18T23:51:12.322827Z"
    },
    "papermill": {
     "duration": null,
     "end_time": null,
     "exception": false,
     "start_time": "2021-07-19T02:28:36.441077",
     "status": "running"
    },
    "tags": []
   },
   "outputs": [
    {
     "name": "stdout",
     "output_type": "stream",
     "text": [
      "['n02086079-Pekinese', 'n02086240-Shih-Tzu', 'n02088466-bloodhound', 'n02090622-borzoi', 'n02090721-Irish_wolfhound', 'n02092339-Weimaraner', 'n02097658-silky_terrier', 'n02111129-Leonberg', 'n02111277-Newfoundland', 'n02111500-Great_Pyrenees', 'n02111889-Samoyed', 'n02113978-Mexican_hairless', 'n02115641-dingo', 'n02115913-dhole', 'n02116738-African_hunting_dog']\n",
      "15\n"
     ]
    }
   ],
   "source": [
    "import numpy as np\n",
    "import pandas as pd\n",
    "import os\n",
    "print(os.listdir(\"bd_stanford\"))\n",
    "print(len(os.listdir(\"bd_stanford\")))"
   ]
  },
  {
   "cell_type": "code",
   "execution_count": 4,
   "id": "satisfactory-church",
   "metadata": {
    "execution": {
     "iopub.execute_input": "2021-07-18T23:51:29.771775Z",
     "iopub.status.busy": "2021-07-18T23:51:29.771138Z",
     "iopub.status.idle": "2021-07-18T23:51:29.783844Z",
     "shell.execute_reply": "2021-07-18T23:51:29.783028Z",
     "shell.execute_reply.started": "2021-07-18T23:51:29.771733Z"
    },
    "papermill": {
     "duration": null,
     "end_time": null,
     "exception": null,
     "start_time": null,
     "status": "pending"
    },
    "tags": []
   },
   "outputs": [
    {
     "name": "stdout",
     "output_type": "stream",
     "text": [
      "['n02086079-Pekinese', 'n02086240-Shih-Tzu', 'n02088466-bloodhound', 'n02090622-borzoi', 'n02090721-Irish_wolfhound', 'n02092339-Weimaraner', 'n02097658-silky_terrier', 'n02111129-Leonberg', 'n02111277-Newfoundland', 'n02111500-Great_Pyrenees', 'n02111889-Samoyed', 'n02113978-Mexican_hairless', 'n02115641-dingo', 'n02115913-dhole', 'n02116738-African_hunting_dog']\n",
      "['Pekinese', 'Shih-Tzu', 'bloodhound', 'borzoi', 'Irish_wolfhound', 'Weimaraner', 'silky_terrier', 'Leonberg', 'Newfoundland', 'Great_Pyrenees', 'Samoyed', 'Mexican_hairless', 'dingo', 'dhole', 'African_hunting_dog']\n",
      "['/bd_stanford/n02086079-Pekinese', '/bd_stanford/n02086240-Shih-Tzu', '/bd_stanford/n02088466-bloodhound', '/bd_stanford/n02090622-borzoi', '/bd_stanford/n02090721-Irish_wolfhound', '/bd_stanford/n02092339-Weimaraner', '/bd_stanford/n02097658-silky_terrier', '/bd_stanford/n02111129-Leonberg', '/bd_stanford/n02111277-Newfoundland', '/bd_stanford/n02111500-Great_Pyrenees', '/bd_stanford/n02111889-Samoyed', '/bd_stanford/n02113978-Mexican_hairless', '/bd_stanford/n02115641-dingo', '/bd_stanford/n02115913-dhole', '/bd_stanford/n02116738-African_hunting_dog']\n"
     ]
    }
   ],
   "source": [
    "dir = 'bd_stanford/'\n",
    "dir_list = os.listdir(\"bd_stanford\")\n",
    "print(dir_list)\n",
    "dogs_names = [_[10:] for _ in dir_list]\n",
    "print(dogs_names)\n",
    "dir_list = [dir+_ for _ in dir_list]\n",
    "print(dir_list)"
   ]
  },
  {
   "cell_type": "code",
   "execution_count": null,
   "id": "established-harrison",
   "metadata": {
    "execution": {
     "iopub.execute_input": "2021-07-18T23:51:29.785873Z",
     "iopub.status.busy": "2021-07-18T23:51:29.785274Z",
     "iopub.status.idle": "2021-07-18T23:51:48.896766Z",
     "shell.execute_reply": "2021-07-18T23:51:48.895857Z",
     "shell.execute_reply.started": "2021-07-18T23:51:29.785828Z"
    },
    "papermill": {
     "duration": null,
     "end_time": null,
     "exception": null,
     "start_time": null,
     "status": "pending"
    },
    "tags": []
   },
   "outputs": [],
   "source": [
    "import cv2\n",
    "X = []\n",
    "y_label = []\n",
    "imgsize = 150\n",
    "def training_data(label, data_dir):\n",
    "    print (\":\", data_dir)\n",
    "    for img in os.listdir(data_dir):\n",
    "        path = os.path.join(data_dir, img)\n",
    "        img = cv2.imread(path, cv2.IMREAD_COLOR)\n",
    "        img = cv2.resize(img, (imgsize, imgsize))\n",
    "        X.append(np.array(img))\n",
    "        y_label.append(str(label))\n",
    "        \n",
    "for _ in range(len(dir_list)):\n",
    "    print(dir_list[_])\n",
    "    training_data(dogs_names[_], dir_list[_])\n",
    "\n",
    "    "
   ]
  },
  {
   "cell_type": "code",
   "execution_count": 10,
   "id": "stock-impossible",
   "metadata": {
    "execution": {
     "iopub.execute_input": "2021-07-18T23:51:48.898167Z",
     "iopub.status.busy": "2021-07-18T23:51:48.897895Z",
     "iopub.status.idle": "2021-07-18T23:51:48.905155Z",
     "shell.execute_reply": "2021-07-18T23:51:48.904269Z",
     "shell.execute_reply.started": "2021-07-18T23:51:48.898140Z"
    },
    "papermill": {
     "duration": null,
     "end_time": null,
     "exception": null,
     "start_time": null,
     "status": "pending"
    },
    "tags": []
   },
   "outputs": [
    {
     "ename": "TypeError",
     "evalue": "listdir: path should be string, bytes, os.PathLike or None, not list",
     "output_type": "error",
     "traceback": [
      "\u001b[1;31m---------------------------------------------------------------------------\u001b[0m",
      "\u001b[1;31mTypeError\u001b[0m                                 Traceback (most recent call last)",
      "\u001b[1;32m~\\AppData\\Local\\Temp/ipykernel_9324/1980666802.py\u001b[0m in \u001b[0;36m<module>\u001b[1;34m\u001b[0m\n\u001b[1;32m----> 1\u001b[1;33m \u001b[0mprint\u001b[0m\u001b[1;33m(\u001b[0m\u001b[0mos\u001b[0m\u001b[1;33m.\u001b[0m\u001b[0mlistdir\u001b[0m\u001b[1;33m(\u001b[0m\u001b[0mdir_list\u001b[0m\u001b[1;33m)\u001b[0m\u001b[1;33m)\u001b[0m\u001b[1;33m\u001b[0m\u001b[1;33m\u001b[0m\u001b[0m\n\u001b[0m",
      "\u001b[1;31mTypeError\u001b[0m: listdir: path should be string, bytes, os.PathLike or None, not list"
     ]
    }
   ],
   "source": [
    "print(os.listdir(dir_list))"
   ]
  },
  {
   "cell_type": "code",
   "execution_count": null,
   "id": "mighty-shift",
   "metadata": {
    "execution": {
     "iopub.execute_input": "2021-07-18T23:51:48.907801Z",
     "iopub.status.busy": "2021-07-18T23:51:48.907365Z",
     "iopub.status.idle": "2021-07-18T23:51:48.917382Z",
     "shell.execute_reply": "2021-07-18T23:51:48.916359Z",
     "shell.execute_reply.started": "2021-07-18T23:51:48.907770Z"
    },
    "papermill": {
     "duration": null,
     "end_time": null,
     "exception": null,
     "start_time": null,
     "status": "pending"
    },
    "tags": []
   },
   "outputs": [],
   "source": [
    "print(y_label)\n",
    "np.size(y_label)"
   ]
  },
  {
   "cell_type": "code",
   "execution_count": null,
   "id": "alpha-watts",
   "metadata": {
    "execution": {
     "iopub.execute_input": "2021-07-18T23:51:48.919289Z",
     "iopub.status.busy": "2021-07-18T23:51:48.918987Z",
     "iopub.status.idle": "2021-07-18T23:51:50.085496Z",
     "shell.execute_reply": "2021-07-18T23:51:50.084408Z",
     "shell.execute_reply.started": "2021-07-18T23:51:48.919261Z"
    },
    "papermill": {
     "duration": null,
     "end_time": null,
     "exception": null,
     "start_time": null,
     "status": "pending"
    },
    "tags": []
   },
   "outputs": [],
   "source": [
    "from sklearn.preprocessing import LabelEncoder\n",
    "from keras.utils.np_utils import to_categorical\n",
    "\n",
    "label_encoder = LabelEncoder()\n",
    "y = label_encoder.fit_transform(y_label)\n",
    "y = to_categorical(y,10)\n",
    "X = np.array(X)\n",
    "X = X/255"
   ]
  },
  {
   "cell_type": "code",
   "execution_count": null,
   "id": "interracial-state",
   "metadata": {
    "execution": {
     "iopub.execute_input": "2021-07-18T23:51:50.086886Z",
     "iopub.status.busy": "2021-07-18T23:51:50.086617Z",
     "iopub.status.idle": "2021-07-18T23:51:50.094377Z",
     "shell.execute_reply": "2021-07-18T23:51:50.093337Z",
     "shell.execute_reply.started": "2021-07-18T23:51:50.086860Z"
    },
    "papermill": {
     "duration": null,
     "end_time": null,
     "exception": null,
     "start_time": null,
     "status": "pending"
    },
    "tags": []
   },
   "outputs": [],
   "source": [
    "print ('X shape：', X.shape)\n",
    "print ('X first image：', X[1])"
   ]
  },
  {
   "cell_type": "code",
   "execution_count": null,
   "id": "limiting-bracelet",
   "metadata": {
    "execution": {
     "iopub.execute_input": "2021-07-18T23:51:50.096074Z",
     "iopub.status.busy": "2021-07-18T23:51:50.095721Z",
     "iopub.status.idle": "2021-07-18T23:51:50.106352Z",
     "shell.execute_reply": "2021-07-18T23:51:50.105554Z",
     "shell.execute_reply.started": "2021-07-18T23:51:50.096043Z"
    },
    "papermill": {
     "duration": null,
     "end_time": null,
     "exception": null,
     "start_time": null,
     "status": "pending"
    },
    "tags": []
   },
   "outputs": [],
   "source": [
    "print('y shape', y.shape)\n",
    "print('first encoded label', y[1])"
   ]
  },
  {
   "cell_type": "code",
   "execution_count": null,
   "id": "blank-library",
   "metadata": {
    "execution": {
     "iopub.execute_input": "2021-07-18T23:58:01.002751Z",
     "iopub.status.busy": "2021-07-18T23:58:01.002112Z",
     "iopub.status.idle": "2021-07-18T23:58:02.513848Z",
     "shell.execute_reply": "2021-07-18T23:58:02.512793Z",
     "shell.execute_reply.started": "2021-07-18T23:58:01.002710Z"
    },
    "papermill": {
     "duration": null,
     "end_time": null,
     "exception": null,
     "start_time": null,
     "status": "pending"
    },
    "tags": []
   },
   "outputs": [],
   "source": [
    "import matplotlib.pyplot as plt\n",
    "import random as rdm\n",
    "fig,ax = plt.subplots(5,2)\n",
    "fig.set_size_inches(15,15)\n",
    "for i in range(5):\n",
    "    for j in range(2):\n",
    "        r = rdm.randint(0,len(X))\n",
    "        ax[i,j].imshow(X[r])\n",
    "        ax[i,j].set_title('Dog:' + y_label[r])\n",
    "plt.tight_layout()\n"
   ]
  },
  {
   "cell_type": "code",
   "execution_count": null,
   "id": "russian-novel",
   "metadata": {
    "execution": {
     "iopub.execute_input": "2021-07-19T00:03:33.249437Z",
     "iopub.status.busy": "2021-07-19T00:03:33.249064Z",
     "iopub.status.idle": "2021-07-19T00:03:34.237549Z",
     "shell.execute_reply": "2021-07-19T00:03:34.236272Z",
     "shell.execute_reply.started": "2021-07-19T00:03:33.249404Z"
    },
    "papermill": {
     "duration": null,
     "end_time": null,
     "exception": null,
     "start_time": null,
     "status": "pending"
    },
    "tags": []
   },
   "outputs": [],
   "source": [
    "from sklearn.model_selection import train_test_split\n",
    "X_train, X_test, y_train, y_test = train_test_split(X,y,test_size=0.2, random_state=0)"
   ]
  },
  {
   "cell_type": "code",
   "execution_count": null,
   "id": "chubby-alabama",
   "metadata": {
    "execution": {
     "iopub.execute_input": "2021-07-19T00:09:58.032901Z",
     "iopub.status.busy": "2021-07-19T00:09:58.032479Z",
     "iopub.status.idle": "2021-07-19T00:09:58.167673Z",
     "shell.execute_reply": "2021-07-19T00:09:58.166480Z",
     "shell.execute_reply.started": "2021-07-19T00:09:58.032865Z"
    },
    "papermill": {
     "duration": null,
     "end_time": null,
     "exception": null,
     "start_time": null,
     "status": "pending"
    },
    "tags": []
   },
   "outputs": [],
   "source": [
    "from keras import layers\n",
    "from keras import models\n",
    "cnn = models.Sequential()\n",
    "cnn.add(layers.Conv2D(32, (3,3),activation='relu', input_shape=(150, 150, 3)))\n",
    "cnn.add(layers.MaxPooling2D((2,2)))\n",
    "cnn.add(layers.Conv2D(64, (3,3), activation='relu'))\n",
    "cnn.add(layers.MaxPooling2D((2,2)))\n",
    "cnn.add(layers.Conv2D(128, (3, 3), activation='relu'))\n",
    "cnn.add(layers.MaxPooling2D((2, 2)))\n",
    "cnn.add(layers.Conv2D(128, (3, 3), activation='relu'))\n",
    "cnn.add(layers.MaxPooling2D((2, 2)))\n",
    "cnn.add(layers.Flatten())\n",
    "cnn.add(layers.Flatten())\n",
    "cnn.add(layers.Dense(512, activation='relu'))\n",
    "cnn.add(layers.Dense(10, activation='softmax'))\n",
    "cnn.compile(loss='categorical_crossentropy',\n",
    "            optimizer='RMSprop',\n",
    "            metrics=['acc'])\n",
    "cnn.summary()"
   ]
  },
  {
   "cell_type": "code",
   "execution_count": null,
   "id": "competitive-biology",
   "metadata": {
    "execution": {
     "iopub.execute_input": "2021-07-19T00:12:50.208552Z",
     "iopub.status.busy": "2021-07-19T00:12:50.208147Z",
     "iopub.status.idle": "2021-07-19T00:46:31.335555Z",
     "shell.execute_reply": "2021-07-19T00:46:31.334692Z",
     "shell.execute_reply.started": "2021-07-19T00:12:50.208513Z"
    },
    "papermill": {
     "duration": null,
     "end_time": null,
     "exception": null,
     "start_time": null,
     "status": "pending"
    },
    "tags": []
   },
   "outputs": [],
   "source": [
    "history = cnn.fit(X_train, y_train,\n",
    "                  epochs=50,\n",
    "                  batch_size=256,\n",
    "                  validation_data=(X_test, y_test)\n",
    ")"
   ]
  },
  {
   "cell_type": "code",
   "execution_count": null,
   "id": "ecological-cookbook",
   "metadata": {
    "papermill": {
     "duration": null,
     "end_time": null,
     "exception": null,
     "start_time": null,
     "status": "pending"
    },
    "tags": []
   },
   "outputs": [],
   "source": []
  }
 ],
 "metadata": {
  "kernelspec": {
   "display_name": "Python 3 (ipykernel)",
   "language": "python",
   "name": "python3"
  },
  "language_info": {
   "codemirror_mode": {
    "name": "ipython",
    "version": 3
   },
   "file_extension": ".py",
   "mimetype": "text/x-python",
   "name": "python",
   "nbconvert_exporter": "python",
   "pygments_lexer": "ipython3",
   "version": "3.8.8"
  },
  "papermill": {
   "default_parameters": {},
   "duration": null,
   "end_time": null,
   "environment_variables": {},
   "exception": null,
   "input_path": "__notebook__.ipynb",
   "output_path": "__notebook__.ipynb",
   "parameters": {},
   "start_time": "2021-07-19T02:28:28.377365",
   "version": "2.3.3"
  }
 },
 "nbformat": 4,
 "nbformat_minor": 5
}
